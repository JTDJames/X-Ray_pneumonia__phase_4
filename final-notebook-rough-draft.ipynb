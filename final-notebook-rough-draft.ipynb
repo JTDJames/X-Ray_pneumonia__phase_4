{
 "cells": [
  {
   "cell_type": "markdown",
   "id": "60cd3ea9",
   "metadata": {},
   "source": [
    "<h1> Chest X-Ray Image Classification of Pneumonia Diagnoses using Deep Learning Modeling and CNNs </h1>"
   ]
  },
  {
   "cell_type": "markdown",
   "id": "3c65b486",
   "metadata": {},
   "source": [
    "Authors: Ilan Haskel, Justin James, Roshni Janakiraman, Leif Schultz, and Brandon Sienkiewicz"
   ]
  },
  {
   "cell_type": "markdown",
   "id": "fe955f75",
   "metadata": {},
   "source": [
    "---"
   ]
  },
  {
   "cell_type": "markdown",
   "id": "f20af7d7",
   "metadata": {},
   "source": [
    "Project Overview"
   ]
  },
  {
   "cell_type": "markdown",
   "id": "1a243c91",
   "metadata": {},
   "source": [
    "# Business Understanding"
   ]
  },
  {
   "cell_type": "markdown",
   "id": "ce4aaa5d",
   "metadata": {},
   "source": [
    "**Stakeholder:** Children's Hospital - Board of Directors"
   ]
  },
  {
   "cell_type": "markdown",
   "id": "8ec47970",
   "metadata": {},
   "source": [
    "## Business Case "
   ]
  },
  {
   "cell_type": "markdown",
   "id": "82e268d3",
   "metadata": {},
   "source": [
    "Pneumonia is the primary cause of childhood hospitalization [[1]](https://pubmed.ncbi.nlm.nih.gov/25695124/). Pediatric pneumonia is lethal without proper treatment, accounting for 15% of all childhood deaths [[2]](https://www.who.int/en/news-room/fact-sheets/detail/pneumonia).  As the disease progresses, pediatric pneumonia requires a significant amount of hospital resources for treatment and poses a high cost of care for patients [[3]](https://www.sciencedirect.com/science/article/pii/S2352646719300274). Therefore, timely and accurate diagnosis of pneumonia is critical for successful treatment.\n",
    "\n",
    "There are many complications to quickly and accurately diagnosing pneumonia. To determine the right treatment protocol, doctors need to determine whether pneumonia is *bacterial* or *viral* [[4]](https://www.nejm.org/doi/full/10.1056/NEJMoa1405870). Clinical features alone are not sufficient to accurately diagnose pneumonia [[5]](https://pneumonia.biomedcentral.com/articles/10.15172/pneu.2014.5/464#Sec4).\n",
    "\n",
    "Chest X-Ray evaluation is the current gold standard for diagnosing pneumonia [[6]](https://academic.oup.com/cid/article/31/2/347/293404). However, this method has key limitations. Chest X-ray interpretation is labor intensive and prone to human error; there is a shortage of radiologists with sufficient training to read chest X-rays[[7]](https://www.thelancet.com/journals/landig/article/PIIS2589-7500(21)00106-0/fulltext). Even for experienced radiologists, reliability and accuracy scores range from 38-76% [[8]](https://www.ajronline.org/doi/10.2214/AJR.19.21521).\n",
    "\n",
    "Artificial Intelligence can improve the process of diagnosing pneumonia accurately and efficiently. Computer aided diagnostic systems have shown reasonable accuracy in detecting infections from X-rays. When aided by AI, radiologists are significantly more accurate at diagnosing pneumonia compared to unassisted[[9]](https://www.thelancet.com/journals/landig/article/PIIS2589-7500(21)00106-0/fulltext). Computerized models can increase the overall efficiency of the diagnostic process by reducing work burden on radiologists. Quicker detection allows doctors to start treatment protocol sooner, which can reduce severity and duration of illness.  "
   ]
  },
  {
   "cell_type": "markdown",
   "id": "8665d01c",
   "metadata": {},
   "source": [
    "## Goals of Current Project"
   ]
  },
  {
   "cell_type": "markdown",
   "id": "b4c28377",
   "metadata": {},
   "source": [
    "We sought to create and optimize image classification models that could diagnose pneumonia from chest X-ray images. Our specific goals for these models were to:\n",
    "\n",
    "1. Accurately distinguish pneumonia *positive* cases from *negative cases*\n",
    "2. Given a new chest X-Ray image, accurately classify case as *bacterial pneumonia,* *viral pneumonia* or *non-pneumonia*\n",
    "3. Minimize *false negative* diagnoses, given lethality of pneumonia without proper treatment\n",
    "4. Increase the efficiency of the chest X-ray diagnostic process by deploying a quick, simple-to-run testing system."
   ]
  },
  {
   "cell_type": "markdown",
   "id": "7b118ecd",
   "metadata": {},
   "source": [
    "---"
   ]
  },
  {
   "cell_type": "markdown",
   "id": "05e1c53c",
   "metadata": {},
   "source": [
    "## Data Understanding"
   ]
  },
  {
   "cell_type": "markdown",
   "id": "b437da70",
   "metadata": {},
   "source": [
    "### Data Description"
   ]
  },
  {
   "cell_type": "markdown",
   "id": "16c00c74",
   "metadata": {},
   "source": [
    "### Data Exploration"
   ]
  },
  {
   "cell_type": "markdown",
   "id": "d05a8f05",
   "metadata": {},
   "source": [
    "### Data Quality"
   ]
  },
  {
   "cell_type": "markdown",
   "id": "be42ca47",
   "metadata": {},
   "source": [
    "---"
   ]
  },
  {
   "cell_type": "markdown",
   "id": "53fdacd7",
   "metadata": {},
   "source": [
    "## Data Preparation"
   ]
  },
  {
   "cell_type": "markdown",
   "id": "8ef11c83",
   "metadata": {},
   "source": [
    "---"
   ]
  },
  {
   "cell_type": "markdown",
   "id": "0ea54062",
   "metadata": {},
   "source": [
    "## Data Modeling"
   ]
  },
  {
   "cell_type": "markdown",
   "id": "065f3469",
   "metadata": {},
   "source": [
    "---"
   ]
  },
  {
   "cell_type": "markdown",
   "id": "5a596643",
   "metadata": {},
   "source": [
    "## Model Evaluation and Deployment"
   ]
  },
  {
   "cell_type": "markdown",
   "id": "0fd3672d",
   "metadata": {},
   "source": [
    "---"
   ]
  },
  {
   "cell_type": "markdown",
   "id": "0726af55",
   "metadata": {},
   "source": [
    "## Conclusion "
   ]
  },
  {
   "cell_type": "markdown",
   "id": "e396588c",
   "metadata": {},
   "source": [
    "---"
   ]
  },
  {
   "cell_type": "code",
   "execution_count": null,
   "id": "33caacd2",
   "metadata": {},
   "outputs": [],
   "source": []
  }
 ],
 "metadata": {
  "kernelspec": {
   "display_name": "tf_env",
   "language": "python",
   "name": "tf_env"
  },
  "language_info": {
   "codemirror_mode": {
    "name": "ipython",
    "version": 3
   },
   "file_extension": ".py",
   "mimetype": "text/x-python",
   "name": "python",
   "nbconvert_exporter": "python",
   "pygments_lexer": "ipython3",
   "version": "3.10.8"
  }
 },
 "nbformat": 4,
 "nbformat_minor": 5
}
