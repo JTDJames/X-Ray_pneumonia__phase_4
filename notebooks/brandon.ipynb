{
 "cells": [
  {
   "cell_type": "code",
   "execution_count": 1,
   "metadata": {},
   "outputs": [],
   "source": [
    "import tensorflow as tf\n",
    "from matplotlib import pyplot as plt\n",
    "import numpy as np\n",
    "from tensorflow.keras import datasets, layers, models\n",
    "import pandas as pd\n",
    "from sklearn.model_selection import train_test_split"
   ]
  },
  {
   "cell_type": "code",
   "execution_count": 2,
   "metadata": {},
   "outputs": [
    {
     "name": "stdout",
     "output_type": "stream",
     "text": [
      "Found 5856 files belonging to 3 classes.\n"
     ]
    }
   ],
   "source": [
    "data = tf.keras.preprocessing.image_dataset_from_directory(\n",
    "    directory='D:/Flatiron/X-Ray_pneumonia__phase_4/data',\n",
    "    batch_size=10000,\n",
    "    seed=4356    \n",
    ")"
   ]
  },
  {
   "cell_type": "code",
   "execution_count": 3,
   "metadata": {},
   "outputs": [],
   "source": [
    "images, labels = next(iter(data))"
   ]
  },
  {
   "cell_type": "code",
   "execution_count": 4,
   "metadata": {},
   "outputs": [],
   "source": [
    "images, labels = np.array(images), np.array(labels)"
   ]
  },
  {
   "cell_type": "code",
   "execution_count": 5,
   "metadata": {},
   "outputs": [],
   "source": [
    "train_images, test_images, train_labels, test_labels = train_test_split(\n",
    "    images,\n",
    "    labels,\n",
    "    random_state=42,\n",
    "    test_size=585\n",
    ")"
   ]
  },
  {
   "cell_type": "code",
   "execution_count": 6,
   "metadata": {},
   "outputs": [],
   "source": [
    "train_images, val_images, train_labels, val_labels = train_test_split(\n",
    "    train_images,\n",
    "    train_labels,\n",
    "    random_state=42,\n",
    "    test_size=585\n",
    ")"
   ]
  },
  {
   "cell_type": "code",
   "execution_count": 7,
   "metadata": {},
   "outputs": [
    {
     "data": {
      "text/plain": [
       "(4686, 256, 256, 3)"
      ]
     },
     "execution_count": 7,
     "metadata": {},
     "output_type": "execute_result"
    }
   ],
   "source": [
    "train_images.shape"
   ]
  },
  {
   "cell_type": "code",
   "execution_count": 8,
   "metadata": {},
   "outputs": [
    {
     "data": {
      "text/plain": [
       "(585, 256, 256, 3)"
      ]
     },
     "execution_count": 8,
     "metadata": {},
     "output_type": "execute_result"
    }
   ],
   "source": [
    "test_images.shape"
   ]
  },
  {
   "cell_type": "code",
   "execution_count": 9,
   "metadata": {},
   "outputs": [
    {
     "data": {
      "text/plain": [
       "(585, 256, 256, 3)"
      ]
     },
     "execution_count": 9,
     "metadata": {},
     "output_type": "execute_result"
    }
   ],
   "source": [
    "val_images.shape"
   ]
  },
  {
   "cell_type": "code",
   "execution_count": 10,
   "metadata": {},
   "outputs": [
    {
     "data": {
      "text/plain": [
       "0    0.474392\n",
       "1    0.265472\n",
       "2    0.260137\n",
       "dtype: float64"
      ]
     },
     "execution_count": 10,
     "metadata": {},
     "output_type": "execute_result"
    }
   ],
   "source": [
    "pd.DataFrame(train_labels).value_counts(normalize=True)"
   ]
  },
  {
   "cell_type": "code",
   "execution_count": 11,
   "metadata": {},
   "outputs": [],
   "source": [
    "train_images, test_images, val_images = train_images/255, test_images/255, val_images/255"
   ]
  },
  {
   "cell_type": "code",
   "execution_count": 13,
   "metadata": {},
   "outputs": [],
   "source": [
    "model = models.Sequential()\n",
    "\n",
    "model.add(layers.Conv2D(filters=64,kernel_size=2,padding=\"same\",activation=\"relu\",input_shape=(256,256,3)))\n",
    "\n",
    "model.add(layers.MaxPooling2D(pool_size=2))\n",
    "\n",
    "model.add(layers.Conv2D(filters=32,kernel_size=2,padding=\"same\",activation =\"relu\"))\n",
    "model.add(layers.MaxPooling2D(pool_size=2))\n",
    "model.add(layers.Conv2D(filters=16,kernel_size=2,padding=\"same\",activation=\"relu\"))\n",
    "model.add(layers.MaxPooling2D(pool_size=2))\n",
    "\n",
    "model.add(layers.Flatten())\n",
    "\n",
    "model.add(layers.Dense(500,activation=\"relu\"))\n",
    "\n",
    "model.add(layers.Dense(3,activation=\"softmax\"))"
   ]
  },
  {
   "cell_type": "code",
   "execution_count": 14,
   "metadata": {},
   "outputs": [
    {
     "name": "stdout",
     "output_type": "stream",
     "text": [
      "Model: \"sequential\"\n",
      "_________________________________________________________________\n",
      "Layer (type)                 Output Shape              Param #   \n",
      "=================================================================\n",
      "conv2d (Conv2D)              (None, 256, 256, 64)      832       \n",
      "_________________________________________________________________\n",
      "max_pooling2d (MaxPooling2D) (None, 128, 128, 64)      0         \n",
      "_________________________________________________________________\n",
      "conv2d_1 (Conv2D)            (None, 128, 128, 32)      8224      \n",
      "_________________________________________________________________\n",
      "max_pooling2d_1 (MaxPooling2 (None, 64, 64, 32)        0         \n",
      "_________________________________________________________________\n",
      "conv2d_2 (Conv2D)            (None, 64, 64, 16)        2064      \n",
      "_________________________________________________________________\n",
      "max_pooling2d_2 (MaxPooling2 (None, 32, 32, 16)        0         \n",
      "_________________________________________________________________\n",
      "flatten (Flatten)            (None, 16384)             0         \n",
      "_________________________________________________________________\n",
      "dense (Dense)                (None, 500)               8192500   \n",
      "_________________________________________________________________\n",
      "dense_1 (Dense)              (None, 3)                 1503      \n",
      "=================================================================\n",
      "Total params: 8,205,123\n",
      "Trainable params: 8,205,123\n",
      "Non-trainable params: 0\n",
      "_________________________________________________________________\n"
     ]
    }
   ],
   "source": [
    "model.summary()"
   ]
  },
  {
   "cell_type": "code",
   "execution_count": 15,
   "metadata": {},
   "outputs": [],
   "source": [
    "model.compile(optimizer='adam',\n",
    "              loss='categorical_crossentropy',\n",
    "             metrics=['accuracy'])"
   ]
  },
  {
   "cell_type": "code",
   "execution_count": 12,
   "metadata": {},
   "outputs": [
    {
     "data": {
      "text/plain": [
       "(585, 3)"
      ]
     },
     "execution_count": 12,
     "metadata": {},
     "output_type": "execute_result"
    }
   ],
   "source": [
    "from sklearn.preprocessing import OneHotEncoder\n",
    "\n",
    "ohe = OneHotEncoder()\n",
    "\n",
    "train_labels_encoded = ohe.fit_transform(train_labels.reshape(-1, 1))\n",
    "\n",
    "train_labels_encoded = train_labels_encoded.toarray()\n",
    "train_labels_encoded.shape\n",
    "\n",
    "val_labels_encoded = ohe.fit_transform(val_labels.reshape(-1, 1))\n",
    "\n",
    "val_labels_encoded = val_labels_encoded.toarray()\n",
    "val_labels_encoded.shape"
   ]
  },
  {
   "cell_type": "code",
   "execution_count": 13,
   "metadata": {},
   "outputs": [
    {
     "data": {
      "text/plain": [
       "(585, 256, 256, 3)"
      ]
     },
     "execution_count": 13,
     "metadata": {},
     "output_type": "execute_result"
    }
   ],
   "source": [
    "val_images.shape"
   ]
  },
  {
   "cell_type": "code",
   "execution_count": 114,
   "metadata": {},
   "outputs": [
    {
     "name": "stdout",
     "output_type": "stream",
     "text": [
      "147/147 [==============================] - 101s 685ms/step - loss: 0.6308 - accuracy: 0.7311 - val_loss: 0.5000 - val_accuracy: 0.8051\n"
     ]
    },
    {
     "data": {
      "text/plain": [
       "<tensorflow.python.keras.callbacks.History at 0x1d8273eeb20>"
      ]
     },
     "execution_count": 114,
     "metadata": {},
     "output_type": "execute_result"
    }
   ],
   "source": [
    "model.fit(\n",
    "    train_images, \n",
    "    train_labels_encoded,\n",
    "    validation_data=(val_images, val_labels_encoded))"
   ]
  },
  {
   "cell_type": "code",
   "execution_count": 115,
   "metadata": {},
   "outputs": [
    {
     "name": "stdout",
     "output_type": "stream",
     "text": [
      "Epoch 1/10\n",
      "37/37 [==============================] - 107s 3s/step - loss: 0.4834 - accuracy: 0.7947 - val_loss: 0.4377 - val_accuracy: 0.8068\n",
      "Epoch 2/10\n",
      "37/37 [==============================] - 107s 3s/step - loss: 0.4475 - accuracy: 0.8082 - val_loss: 0.4347 - val_accuracy: 0.8103\n",
      "Epoch 3/10\n",
      "37/37 [==============================] - 105s 3s/step - loss: 0.4233 - accuracy: 0.8173 - val_loss: 0.4436 - val_accuracy: 0.8154\n",
      "Epoch 4/10\n",
      "37/37 [==============================] - 106s 3s/step - loss: 0.3974 - accuracy: 0.8333 - val_loss: 0.4453 - val_accuracy: 0.8068\n",
      "Epoch 5/10\n",
      "37/37 [==============================] - 108s 3s/step - loss: 0.3670 - accuracy: 0.8508 - val_loss: 0.4654 - val_accuracy: 0.8222\n",
      "Epoch 6/10\n",
      "37/37 [==============================] - 108s 3s/step - loss: 0.3313 - accuracy: 0.8609 - val_loss: 0.4394 - val_accuracy: 0.8291\n",
      "Epoch 7/10\n",
      "37/37 [==============================] - 106s 3s/step - loss: 0.3039 - accuracy: 0.8739 - val_loss: 0.4460 - val_accuracy: 0.8444\n",
      "Epoch 8/10\n",
      "37/37 [==============================] - 105s 3s/step - loss: 0.2542 - accuracy: 0.8971 - val_loss: 0.4825 - val_accuracy: 0.8239\n",
      "Epoch 9/10\n",
      "37/37 [==============================] - 109s 3s/step - loss: 0.2003 - accuracy: 0.9181 - val_loss: 0.5730 - val_accuracy: 0.8137\n",
      "Epoch 10/10\n",
      "37/37 [==============================] - 109s 3s/step - loss: 0.1713 - accuracy: 0.9326 - val_loss: 0.8072 - val_accuracy: 0.7436\n"
     ]
    },
    {
     "data": {
      "text/plain": [
       "<tensorflow.python.keras.callbacks.History at 0x1d82c4f0af0>"
      ]
     },
     "execution_count": 115,
     "metadata": {},
     "output_type": "execute_result"
    }
   ],
   "source": [
    "model.fit(\n",
    "    train_images, \n",
    "    train_labels_encoded,\n",
    "    validation_data=(val_images, val_labels_encoded),\n",
    "    epochs=10,\n",
    "    batch_size=128)"
   ]
  },
  {
   "cell_type": "code",
   "execution_count": null,
   "metadata": {},
   "outputs": [],
   "source": [
    "#Epoch 7/10\n",
    "#37/37 [==============================] - 106s 3s/step - loss: 0.3039 - accuracy: 0.8739 - val_loss: 0.4460 - val_accuracy: 0.8444"
   ]
  },
  {
   "cell_type": "code",
   "execution_count": 117,
   "metadata": {},
   "outputs": [],
   "source": [
    "model2 = models.Sequential()\n",
    "\n",
    "model2.add(layers.Conv2D(filters=64,kernel_size=2,padding=\"same\",activation=\"relu\",input_shape=(256,256,3)))\n",
    "\n",
    "model2.add(layers.MaxPooling2D(pool_size=2))\n",
    "\n",
    "model2.add(layers.Conv2D(32, 3, padding=\"same\", activation =\"relu\"))\n",
    "model2.add(layers.MaxPooling2D(pool_size=2))\n",
    "model2.add(layers.Conv2D(16, 3, padding=\"same\", activation=\"relu\"))\n",
    "model2.add(layers.MaxPooling2D(pool_size=2))\n",
    "\n",
    "model2.add(layers.Flatten())\n",
    "\n",
    "model2.add(layers.Dense(128,activation=\"relu\"))\n",
    "model2.add(layers.Dense(64,activation=\"relu\"))\n",
    "model2.add(layers.Dense(3,activation=\"softmax\"))"
   ]
  },
  {
   "cell_type": "code",
   "execution_count": 122,
   "metadata": {},
   "outputs": [],
   "source": [
    "model2.compile(optimizer='adam',\n",
    "              loss='categorical_crossentropy',\n",
    "             metrics=['accuracy'])"
   ]
  },
  {
   "cell_type": "code",
   "execution_count": 123,
   "metadata": {},
   "outputs": [
    {
     "name": "stdout",
     "output_type": "stream",
     "text": [
      "Epoch 1/5\n",
      "37/37 [==============================] - 133s 4s/step - loss: 0.8440 - accuracy: 0.6129 - val_loss: 0.5704 - val_accuracy: 0.7761\n",
      "Epoch 2/5\n",
      "37/37 [==============================] - 137s 4s/step - loss: 0.5496 - accuracy: 0.7749 - val_loss: 0.4489 - val_accuracy: 0.8103\n",
      "Epoch 3/5\n",
      "37/37 [==============================] - 132s 4s/step - loss: 0.4950 - accuracy: 0.7898 - val_loss: 0.4443 - val_accuracy: 0.7949\n",
      "Epoch 4/5\n",
      "37/37 [==============================] - 131s 4s/step - loss: 0.4605 - accuracy: 0.8047 - val_loss: 0.4703 - val_accuracy: 0.8017\n",
      "Epoch 5/5\n",
      "37/37 [==============================] - 133s 4s/step - loss: 0.4417 - accuracy: 0.8088 - val_loss: 0.4746 - val_accuracy: 0.7983\n"
     ]
    },
    {
     "data": {
      "text/plain": [
       "<tensorflow.python.keras.callbacks.History at 0x1d82c5d2dc0>"
      ]
     },
     "execution_count": 123,
     "metadata": {},
     "output_type": "execute_result"
    }
   ],
   "source": [
    "model2.fit(\n",
    "    train_images, \n",
    "    train_labels_encoded,\n",
    "    validation_data=(val_images, val_labels_encoded),\n",
    "    epochs=5,\n",
    "    batch_size=128)"
   ]
  },
  {
   "cell_type": "code",
   "execution_count": 124,
   "metadata": {},
   "outputs": [],
   "source": [
    "model3 = models.Sequential()\n",
    "\n",
    "model3.add(layers.Conv2D(filters=64,kernel_size=2,padding=\"same\",activation=\"relu\",input_shape=(256,256,3)))\n",
    "\n",
    "model3.add(layers.MaxPooling2D(pool_size=2))\n",
    "\n",
    "model3.add(layers.Conv2D(64, 3, padding=\"same\", activation =\"relu\"))\n",
    "model3.add(layers.Conv2D(32, 3, padding=\"same\", activation =\"relu\"))\n",
    "model3.add(layers.MaxPooling2D(pool_size=2))\n",
    "model3.add(layers.Conv2D(16, 3, padding=\"same\", activation =\"relu\"))\n",
    "model3.add(layers.Conv2D(8, 3, padding=\"same\", activation=\"relu\"))\n",
    "model3.add(layers.MaxPooling2D(pool_size=2))\n",
    "\n",
    "model3.add(layers.Flatten())\n",
    "\n",
    "model3.add(layers.Dense(128,activation=\"relu\"))\n",
    "model3.add(layers.Dense(64,activation=\"relu\"))\n",
    "model3.add(layers.Dense(3,activation=\"softmax\"))"
   ]
  },
  {
   "cell_type": "code",
   "execution_count": 125,
   "metadata": {},
   "outputs": [],
   "source": [
    "model3.compile(optimizer='adam',\n",
    "              loss='categorical_crossentropy',\n",
    "             metrics=['accuracy'])"
   ]
  },
  {
   "cell_type": "code",
   "execution_count": 127,
   "metadata": {},
   "outputs": [
    {
     "name": "stdout",
     "output_type": "stream",
     "text": [
      "Epoch 1/10\n",
      "37/37 [==============================] - 190s 5s/step - loss: 0.8439 - accuracy: 0.6020 - val_loss: 0.6214 - val_accuracy: 0.7385\n",
      "Epoch 2/10\n",
      "37/37 [==============================] - 194s 5s/step - loss: 0.5840 - accuracy: 0.7516 - val_loss: 0.4793 - val_accuracy: 0.7949\n",
      "Epoch 3/10\n",
      "37/37 [==============================] - 193s 5s/step - loss: 0.5035 - accuracy: 0.7796 - val_loss: 0.4367 - val_accuracy: 0.8103\n",
      "Epoch 4/10\n",
      "37/37 [==============================] - 170s 5s/step - loss: 0.4768 - accuracy: 0.7892 - val_loss: 0.4217 - val_accuracy: 0.8188\n",
      "Epoch 5/10\n",
      "37/37 [==============================] - 167s 5s/step - loss: 0.4419 - accuracy: 0.8092 - val_loss: 0.3987 - val_accuracy: 0.8291\n",
      "Epoch 6/10\n",
      "37/37 [==============================] - 167s 5s/step - loss: 0.4196 - accuracy: 0.8182 - val_loss: 0.4244 - val_accuracy: 0.8120\n",
      "Epoch 7/10\n",
      "37/37 [==============================] - 166s 4s/step - loss: 0.3997 - accuracy: 0.8308 - val_loss: 0.4262 - val_accuracy: 0.8325\n",
      "Epoch 8/10\n",
      "37/37 [==============================] - 166s 4s/step - loss: 0.3486 - accuracy: 0.8504 - val_loss: 0.4755 - val_accuracy: 0.8239\n",
      "Epoch 9/10\n",
      "37/37 [==============================] - 167s 5s/step - loss: 0.2945 - accuracy: 0.8737 - val_loss: 0.5559 - val_accuracy: 0.7846\n",
      "Epoch 10/10\n",
      "37/37 [==============================] - 167s 5s/step - loss: 0.2475 - accuracy: 0.8920 - val_loss: 0.5957 - val_accuracy: 0.7897\n"
     ]
    },
    {
     "data": {
      "text/plain": [
       "<tensorflow.python.keras.callbacks.History at 0x1d82edf38b0>"
      ]
     },
     "execution_count": 127,
     "metadata": {},
     "output_type": "execute_result"
    }
   ],
   "source": [
    "model3.fit(\n",
    "    train_images, \n",
    "    train_labels_encoded,\n",
    "    validation_data=(val_images, val_labels_encoded),\n",
    "    epochs=10,\n",
    "    batch_size=128)"
   ]
  },
  {
   "cell_type": "code",
   "execution_count": null,
   "metadata": {},
   "outputs": [],
   "source": []
  }
 ],
 "metadata": {
  "kernelspec": {
   "display_name": "Python 3",
   "language": "python",
   "name": "python3"
  },
  "language_info": {
   "codemirror_mode": {
    "name": "ipython",
    "version": 3
   },
   "file_extension": ".py",
   "mimetype": "text/x-python",
   "name": "python",
   "nbconvert_exporter": "python",
   "pygments_lexer": "ipython3",
   "version": "3.8.5"
  }
 },
 "nbformat": 4,
 "nbformat_minor": 4
}
