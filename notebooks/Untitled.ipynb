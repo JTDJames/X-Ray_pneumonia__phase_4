{
 "cells": [
  {
   "cell_type": "code",
   "execution_count": 1,
   "metadata": {},
   "outputs": [],
   "source": [
    "from numpy.random import seed\n",
    "seed(72)\n",
    "import tensorflow as tf\n",
    "tf.random.set_seed(72)"
   ]
  },
  {
   "cell_type": "code",
   "execution_count": 2,
   "metadata": {},
   "outputs": [],
   "source": [
    "import tensorflow as tf\n",
    "from matplotlib import pyplot as plt\n",
    "import numpy as np\n",
    "from tensorflow.keras import datasets, layers, models, regularizers\n",
    "import pandas as pd\n",
    "from sklearn.model_selection import train_test_split\n",
    "from sklearn.metrics import confusion_matrix\n",
    "import seaborn as sns\n",
    "from tensorflow.keras.callbacks import EarlyStopping"
   ]
  },
  {
   "cell_type": "code",
   "execution_count": 3,
   "metadata": {},
   "outputs": [
    {
     "name": "stdout",
     "output_type": "stream",
     "text": [
      "Found 5856 files belonging to 3 classes.\n"
     ]
    }
   ],
   "source": [
    "data = tf.keras.preprocessing.image_dataset_from_directory(\n",
    "    directory='D:/Flatiron/X-Ray_pneumonia__phase_4/data',\n",
    "    batch_size=10000,\n",
    "    seed=4356    \n",
    ")"
   ]
  },
  {
   "cell_type": "code",
   "execution_count": 4,
   "metadata": {},
   "outputs": [],
   "source": [
    "images, labels = next(iter(data))"
   ]
  },
  {
   "cell_type": "code",
   "execution_count": 5,
   "metadata": {},
   "outputs": [],
   "source": [
    "images, labels = np.array(images), np.array(labels)"
   ]
  },
  {
   "cell_type": "code",
   "execution_count": 6,
   "metadata": {},
   "outputs": [],
   "source": [
    "train_images, test_images, train_labels, test_labels = train_test_split(\n",
    "    images,\n",
    "    labels,\n",
    "    random_state=42,\n",
    "    test_size=585\n",
    ")"
   ]
  },
  {
   "cell_type": "code",
   "execution_count": 7,
   "metadata": {},
   "outputs": [],
   "source": [
    "train_images, val_images, train_labels, val_labels = train_test_split(\n",
    "    train_images,\n",
    "    train_labels,\n",
    "    random_state=42,\n",
    "    test_size=585\n",
    ")"
   ]
  },
  {
   "cell_type": "code",
   "execution_count": 8,
   "metadata": {},
   "outputs": [],
   "source": [
    "train_images, test_images, val_images = train_images/255, test_images/255, val_images/255"
   ]
  },
  {
   "cell_type": "code",
   "execution_count": 9,
   "metadata": {},
   "outputs": [],
   "source": [
    "from sklearn.preprocessing import OneHotEncoder\n",
    "\n",
    "ohe = OneHotEncoder()\n",
    "\n",
    "train_labels_encoded = ohe.fit_transform(train_labels.reshape(-1, 1)).toarray()\n",
    "\n",
    "test_labels_encoded = ohe.fit_transform(test_labels.reshape(-1, 1)).toarray()\n",
    "\n",
    "val_labels_encoded = ohe.fit_transform(val_labels.reshape(-1, 1)).toarray()"
   ]
  },
  {
   "cell_type": "code",
   "execution_count": 10,
   "metadata": {},
   "outputs": [],
   "source": [
    "def evaluate(model, results, final=False):\n",
    "    \n",
    "    #Create a function that provides useful vis for model\n",
    "    #performance. This is especially useful as we are most\n",
    "    #concerned with the number of false negatives\n",
    "    \n",
    "    if final:\n",
    "        val_label=\"test\"\n",
    "    else:\n",
    "        val_label=\"validation\"\n",
    "        \n",
    "\n",
    "    #Extracts metrics from the results of the model (model fitting)\n",
    "    \n",
    "    train_loss = results.history['loss']\n",
    "    val_loss = results.history['val_loss']\n",
    "    train_accuracy = results.history['accuracy']\n",
    "    val_accuracy = results.history['val_accuracy']\n",
    "\n",
    "    #Setting up the plots\n",
    "    \n",
    "    fig, ((ax1, ax2), (ax3, ax4), (ax5, ax6)) = plt.subplots(3, 2, figsize=(20, 10))\n",
    "\n",
    "    # Plotting loss\n",
    "    ax1.set_title(\"Loss\")\n",
    "    sns.lineplot(x=results.epoch, y=train_loss, ax=ax1, label=\"train\")\n",
    "    sns.lineplot(x=results.epoch, y=val_loss, ax=ax1, label=val_label)\n",
    "    ax1.legend()\n",
    "\n",
    "    # Plotting accuracy\n",
    "    \n",
    "    ax2.set_title(\"Accuracy\")\n",
    "    sns.lineplot(x=results.epoch, y=train_accuracy, ax=ax2, label=\"train\")\n",
    "    sns.lineplot(x=results.epoch, y=val_accuracy, ax=ax2, label=val_label)\n",
    "    ax2.legend()\n",
    "    \n",
    "    #Uses the model to make predictions and creates a confusion\n",
    "    #matrix for the multiclass\n",
    "    \n",
    "    y_pred = model.predict(test_images)\n",
    "    cm = confusion_matrix(test_labels, np.argmax(y_pred, axis=1))\n",
    "    cm_df = pd.DataFrame(cm)\n",
    "    \n",
    "    #Plotting the multiclass confusion matrix\n",
    "\n",
    "    sns.heatmap(cm, ax=ax3, annot=True, cmap='Blues', fmt='0.5g')\n",
    "    \n",
    "    #Setting up the barplot showing the accuracy of each class\n",
    "    #This involves creating labels and heights for the plot\n",
    "    #The heights are determined from the values in the confusion\n",
    "    #matrix\n",
    "\n",
    "    label = ['Healthy Accuracy',\n",
    "             'Bacterial Accuracy',\n",
    "             'Viral Accuracy']\n",
    "\n",
    "    height = [(cm_df[0][0]/sum(cm_df[0]))*100,\n",
    "              (cm_df[1][1]/sum(cm_df[1]))*100,\n",
    "              (cm_df[2][2]/sum(cm_df[2]))*100]\n",
    "    \n",
    "    #Plotting the class accuracy\n",
    "\n",
    "    ax4.bar(x=label, height=height)\n",
    "    plt.sca(ax4)\n",
    "    xlocs, xlabs = plt.xticks()\n",
    "    plt.ylim(top=100)\n",
    "    plt.ylabel('Accuracy Percentage')\n",
    "    plt.title('Model Accuracy')\n",
    "    for i, j in enumerate(height):\n",
    "        ax4.text(xlocs[i],\n",
    "                 j-30,\n",
    "                 ((str(round(j,1)))+'%'),\n",
    "                 ha ='center',\n",
    "                 bbox = dict(facecolor = 'white', alpha = .5))\n",
    "        \n",
    "    #Using the previous confusion matrix to create a binary\n",
    "    #Confusion matrix\n",
    "        \n",
    "    cm_simple = [[cm_df[0][0], cm_df[1][0]+cm_df[2][0]],\n",
    "                 [cm_df[0][1]+cm_df[0][2], cm_df[1][1]+cm_df[1][2]+cm_df[2][1]+cm_df[2][2]]]\n",
    "    cm_simple_df = pd.DataFrame(cm_simple)\n",
    "    \n",
    "    #Plotting the binary confusion matrix\n",
    "    \n",
    "    sns.heatmap(cm_simple, ax=ax5, annot=True, cmap='Blues', fmt='0.5g')\n",
    "    \n",
    "    #Setting up the barplot showing the accuracy of each class\n",
    "    #This involves creating labels and heights for the plot\n",
    "    #The heights are determined from the values in the confusion\n",
    "    #matrix\n",
    "    \n",
    "    simple_label = ['Healthy\\n Accuracy',\n",
    "                    'Pneumonia\\n Accuracy']\n",
    "    \n",
    "    simple_height = [(cm_simple_df[0][0]/sum(cm_simple_df[0]))*100,\n",
    "                     (cm_simple_df[1][1]/sum(cm_simple_df[1]))*100]\n",
    "    \n",
    "    #Plotting the class accuracy\n",
    "    \n",
    "    ax6.bar(x=simple_label, height=simple_height)\n",
    "    plt.sca(ax6)\n",
    "    xlocs, xlabs = plt.xticks()\n",
    "    plt.ylim(top=100)\n",
    "    plt.ylabel('Accuracy Percentage')\n",
    "    plt.title('Model Accuracy')\n",
    "    for k, l in enumerate(simple_height):\n",
    "        ax6.text(xlocs[k],\n",
    "                 l-30,\n",
    "                 ((str(round(l,1)))+'%'),\n",
    "                 ha ='center',\n",
    "                 bbox = dict(facecolor = 'white', alpha = .5))"
   ]
  },
  {
   "cell_type": "code",
   "execution_count": 24,
   "metadata": {},
   "outputs": [],
   "source": [
    "model = models.Sequential()\n",
    "\n",
    "model.add(layers.Conv2D(filters=256,\n",
    "                        kernel_size=3,\n",
    "                        activation=\"relu\",\n",
    "                        input_shape=(256,256,3)))\n",
    "\n",
    "model.add(layers.MaxPooling2D(pool_size=2))\n",
    "\n",
    "model.add(layers.Conv2D(filters=64,\n",
    "                        kernel_size=3,\n",
    "                        padding=\"same\",\n",
    "                        activation =\"relu\"))\n",
    "\n",
    "model.add(layers.Flatten())\n",
    "\n",
    "model.add(layers.Dense(32,activation=\"relu\"))\n",
    "model.add(layers.Dense(16,activation=\"relu\"))\n",
    "model.add(layers.Dense(3,activation=\"softmax\"))"
   ]
  },
  {
   "cell_type": "code",
   "execution_count": null,
   "metadata": {},
   "outputs": [
    {
     "name": "stdout",
     "output_type": "stream",
     "text": [
      "Epoch 1/10\n",
      "37/37 [==============================] - 543s 15s/step - loss: 0.4454 - accuracy: 0.9008 - val_loss: 0.9208 - val_accuracy: 0.7145\n",
      "Epoch 2/10\n",
      "37/37 [==============================] - 798s 22s/step - loss: 0.1000 - accuracy: 0.9688 - val_loss: 0.9623 - val_accuracy: 0.7350\n",
      "Epoch 3/10\n",
      "37/37 [==============================] - 770s 21s/step - loss: 0.0618 - accuracy: 0.9804 - val_loss: 1.1544 - val_accuracy: 0.7316\n",
      "Epoch 4/10\n",
      "37/37 [==============================] - 753s 20s/step - loss: 0.0390 - accuracy: 0.9906 - val_loss: 1.2209 - val_accuracy: 0.7504\n",
      "Epoch 5/10\n",
      "25/37 [===================>..........] - ETA: 4:11 - loss: 0.0273 - accuracy: 0.9953"
     ]
    }
   ],
   "source": [
    "model.compile(optimizer='adam',\n",
    "                 loss='categorical_crossentropy',\n",
    "                 metrics=['accuracy'])\n",
    "\n",
    "results = model.fit(\n",
    "    train_images, \n",
    "    train_labels_encoded,\n",
    "    validation_data=(val_images, val_labels_encoded),\n",
    "    epochs=10,\n",
    "    batch_size=128)"
   ]
  },
  {
   "cell_type": "code",
   "execution_count": null,
   "metadata": {},
   "outputs": [],
   "source": [
    "evaluate(baseline, results)"
   ]
  },
  {
   "cell_type": "code",
   "execution_count": null,
   "metadata": {},
   "outputs": [],
   "source": []
  }
 ],
 "metadata": {
  "kernelspec": {
   "display_name": "Python 3",
   "language": "python",
   "name": "python3"
  },
  "language_info": {
   "codemirror_mode": {
    "name": "ipython",
    "version": 3
   },
   "file_extension": ".py",
   "mimetype": "text/x-python",
   "name": "python",
   "nbconvert_exporter": "python",
   "pygments_lexer": "ipython3",
   "version": "3.8.5"
  }
 },
 "nbformat": 4,
 "nbformat_minor": 4
}
